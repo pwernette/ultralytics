{
 "cells": [
  {
   "cell_type": "code",
   "execution_count": 1,
   "id": "21d88e3e-8140-4039-8cbd-8f2dffc82975",
   "metadata": {},
   "outputs": [],
   "source": [
    "import os, sys, cv2\n",
    "import numpy as np\n",
    "import matplotlib.pyplot as plt\n",
    "import matplotlib.patches as patches\n",
    "from PIL import Image\n",
    "from ultralytics import YOLO"
   ]
  },
  {
   "cell_type": "code",
   "execution_count": 3,
   "id": "f06f5d26-213f-43d8-8af1-4a920d23637b",
   "metadata": {},
   "outputs": [],
   "source": [
    "# input parameters\n",
    "# input_dir = os.path.join('images','GLSC_test_images')\n",
    "# input_dir = os.path.join('images','stamp_sands_test')\n",
    "input_dir = 'M:/My Drive/FastSAM/images'\n",
    "\n",
    "out_dir = os.path.join(os.path.split(input_dir)[0],'outputs_sam')\n",
    "if not os.path.isdir(out_dir):\n",
    "    os.mkdir(out_dir)\n",
    "\n",
    "# image = cv2.imread('images/GLSC_test_images/boulder.png')\n",
    "# image = cv2.imread('images/GLSC_test_images/cobble.png')\n",
    "# image = cv2.imread('images/GLSC_test_images/cobble_pebble.png')\n",
    "# image = cv2.imread('images/GLSC_test_images/gravelmix.png')\n",
    "# image = cv2.imread('images/GLSC_test_images/gravelmix2.png')\n",
    "# image = cv2.imread('images/GLSC_test_images/fine.png')\n",
    "\n",
    "image_name = 'CI_1596710828_778'\n",
    "# image_name = 'test_stamp_sands_smaller'\n",
    "\n",
    "# image = cv2.imread(os.path.join(input_dir,image_name+'.png'))\n",
    "# image = cv2.cvtColor(image, cv2.COLOR_BGR2RGB)"
   ]
  },
  {
   "cell_type": "code",
   "execution_count": 4,
   "id": "dbd56b4e-b00c-4ab4-a5d4-976609c0fbe2",
   "metadata": {},
   "outputs": [],
   "source": [
    "# Load a model\n",
    "model = YOLO('yolov8n-seg.pt')  # load an official model\n",
    "modelx = YOLO('yolov8x-seg.pt')\n",
    "\n",
    "rockmod = YOLO"
   ]
  },
  {
   "cell_type": "code",
   "execution_count": 5,
   "id": "f7be17fa-ae14-4e77-bfe6-a7c7668d845c",
   "metadata": {},
   "outputs": [
    {
     "name": "stdout",
     "output_type": "stream",
     "text": [
      "\n",
      "Saving D:\\OneDrive\\Documents\\github\\ultralytics\\runs\\segment\\predict3\\CI_1596710828_778\\stage0_Conv_features.png... (16/16)\n",
      "Saving D:\\OneDrive\\Documents\\github\\ultralytics\\runs\\segment\\predict3\\CI_1596710828_778\\stage1_Conv_features.png... (32/32)\n",
      "Saving D:\\OneDrive\\Documents\\github\\ultralytics\\runs\\segment\\predict3\\CI_1596710828_778\\stage2_C2f_features.png... (32/32)\n",
      "Saving D:\\OneDrive\\Documents\\github\\ultralytics\\runs\\segment\\predict3\\CI_1596710828_778\\stage3_Conv_features.png... (32/64)\n",
      "Saving D:\\OneDrive\\Documents\\github\\ultralytics\\runs\\segment\\predict3\\CI_1596710828_778\\stage4_C2f_features.png... (32/64)\n",
      "Saving D:\\OneDrive\\Documents\\github\\ultralytics\\runs\\segment\\predict3\\CI_1596710828_778\\stage5_Conv_features.png... (32/128)\n",
      "Saving D:\\OneDrive\\Documents\\github\\ultralytics\\runs\\segment\\predict3\\CI_1596710828_778\\stage6_C2f_features.png... (32/128)\n",
      "Saving D:\\OneDrive\\Documents\\github\\ultralytics\\runs\\segment\\predict3\\CI_1596710828_778\\stage7_Conv_features.png... (32/256)\n",
      "Saving D:\\OneDrive\\Documents\\github\\ultralytics\\runs\\segment\\predict3\\CI_1596710828_778\\stage8_C2f_features.png... (32/256)\n",
      "Saving D:\\OneDrive\\Documents\\github\\ultralytics\\runs\\segment\\predict3\\CI_1596710828_778\\stage9_SPPF_features.png... (32/256)\n",
      "Saving D:\\OneDrive\\Documents\\github\\ultralytics\\runs\\segment\\predict3\\CI_1596710828_778\\stage10_Upsample_features.png... (32/256)\n",
      "Saving D:\\OneDrive\\Documents\\github\\ultralytics\\runs\\segment\\predict3\\CI_1596710828_778\\stage11_Concat_features.png... (32/384)\n",
      "Saving D:\\OneDrive\\Documents\\github\\ultralytics\\runs\\segment\\predict3\\CI_1596710828_778\\stage12_C2f_features.png... (32/128)\n",
      "Saving D:\\OneDrive\\Documents\\github\\ultralytics\\runs\\segment\\predict3\\CI_1596710828_778\\stage13_Upsample_features.png... (32/128)\n",
      "Saving D:\\OneDrive\\Documents\\github\\ultralytics\\runs\\segment\\predict3\\CI_1596710828_778\\stage14_Concat_features.png... (32/192)\n",
      "Saving D:\\OneDrive\\Documents\\github\\ultralytics\\runs\\segment\\predict3\\CI_1596710828_778\\stage15_C2f_features.png... (32/64)\n",
      "Saving D:\\OneDrive\\Documents\\github\\ultralytics\\runs\\segment\\predict3\\CI_1596710828_778\\stage16_Conv_features.png... (32/64)\n",
      "Saving D:\\OneDrive\\Documents\\github\\ultralytics\\runs\\segment\\predict3\\CI_1596710828_778\\stage17_Concat_features.png... (32/192)\n",
      "Saving D:\\OneDrive\\Documents\\github\\ultralytics\\runs\\segment\\predict3\\CI_1596710828_778\\stage18_C2f_features.png... (32/128)\n",
      "Saving D:\\OneDrive\\Documents\\github\\ultralytics\\runs\\segment\\predict3\\CI_1596710828_778\\stage19_Conv_features.png... (32/128)\n",
      "Saving D:\\OneDrive\\Documents\\github\\ultralytics\\runs\\segment\\predict3\\CI_1596710828_778\\stage20_Concat_features.png... (32/384)\n",
      "Saving D:\\OneDrive\\Documents\\github\\ultralytics\\runs\\segment\\predict3\\CI_1596710828_778\\stage21_C2f_features.png... (32/256)\n",
      "image 1/1 M:\\My Drive\\FastSAM\\images\\CI_1596710828_778.png: 352x640 1 broccoli, 17286.9ms\n",
      "Speed: 5.0ms preprocess, 17286.9ms inference, 1174.6ms postprocess per image at shape (1, 3, 352, 640)\n"
     ]
    }
   ],
   "source": [
    "# predict with the model\n",
    "res = model.predict(os.path.join(input_dir,image_name+'.png'), \n",
    "                     device='cuda:0',\n",
    "                     # iou=0.7,\n",
    "                     # conf=0.2,\n",
    "                     retina_masks=True,\n",
    "                     show_boxes=True,\n",
    "                     visualize=True)"
   ]
  },
  {
   "cell_type": "code",
   "execution_count": 10,
   "id": "508af2a4-7e1a-4f9b-9931-2de6ddf688bd",
   "metadata": {},
   "outputs": [
    {
     "data": {
      "text/plain": [
       "ultralytics.engine.results.Boxes object with attributes:\n",
       "\n",
       "cls: tensor([50.], device='cuda:0')\n",
       "conf: tensor([0.8091], device='cuda:0')\n",
       "data: tensor([[1.3068e+03, 1.9154e+01, 2.4039e+03, 1.2142e+03, 8.0912e-01, 5.0000e+01]], device='cuda:0')\n",
       "id: None\n",
       "is_track: False\n",
       "orig_shape: (2176, 4096)\n",
       "shape: torch.Size([1, 6])\n",
       "xywh: tensor([[1855.3430,  616.6524, 1097.1437, 1194.9957]], device='cuda:0')\n",
       "xywhn: tensor([[0.4530, 0.2834, 0.2679, 0.5492]], device='cuda:0')\n",
       "xyxy: tensor([[1306.7711,   19.1545, 2403.9148, 1214.1503]], device='cuda:0')\n",
       "xyxyn: tensor([[0.3190, 0.0088, 0.5869, 0.5580]], device='cuda:0')"
      ]
     },
     "execution_count": 10,
     "metadata": {},
     "output_type": "execute_result"
    }
   ],
   "source": [
    "res[0].boxes"
   ]
  },
  {
   "cell_type": "code",
   "execution_count": 5,
   "id": "065fe703-401f-4d96-b8c0-a26c15b716b9",
   "metadata": {},
   "outputs": [],
   "source": [
    "for i,r in enumerate(res):\n",
    "    im_bgr = r.plot()\n",
    "    im_rgb = Image.fromarray(im_bgr[..., ::-1])\n",
    "    r.show()"
   ]
  },
  {
   "cell_type": "code",
   "execution_count": 6,
   "id": "448464a1-6189-46c2-99aa-d477a4e12e66",
   "metadata": {},
   "outputs": [
    {
     "data": {
      "text/plain": [
       "[ultralytics.engine.results.Results object with attributes:\n",
       " \n",
       " boxes: ultralytics.engine.results.Boxes object\n",
       " keypoints: None\n",
       " masks: ultralytics.engine.results.Masks object\n",
       " names: {0: 'person', 1: 'bicycle', 2: 'car', 3: 'motorcycle', 4: 'airplane', 5: 'bus', 6: 'train', 7: 'truck', 8: 'boat', 9: 'traffic light', 10: 'fire hydrant', 11: 'stop sign', 12: 'parking meter', 13: 'bench', 14: 'bird', 15: 'cat', 16: 'dog', 17: 'horse', 18: 'sheep', 19: 'cow', 20: 'elephant', 21: 'bear', 22: 'zebra', 23: 'giraffe', 24: 'backpack', 25: 'umbrella', 26: 'handbag', 27: 'tie', 28: 'suitcase', 29: 'frisbee', 30: 'skis', 31: 'snowboard', 32: 'sports ball', 33: 'kite', 34: 'baseball bat', 35: 'baseball glove', 36: 'skateboard', 37: 'surfboard', 38: 'tennis racket', 39: 'bottle', 40: 'wine glass', 41: 'cup', 42: 'fork', 43: 'knife', 44: 'spoon', 45: 'bowl', 46: 'banana', 47: 'apple', 48: 'sandwich', 49: 'orange', 50: 'broccoli', 51: 'carrot', 52: 'hot dog', 53: 'pizza', 54: 'donut', 55: 'cake', 56: 'chair', 57: 'couch', 58: 'potted plant', 59: 'bed', 60: 'dining table', 61: 'toilet', 62: 'tv', 63: 'laptop', 64: 'mouse', 65: 'remote', 66: 'keyboard', 67: 'cell phone', 68: 'microwave', 69: 'oven', 70: 'toaster', 71: 'sink', 72: 'refrigerator', 73: 'book', 74: 'clock', 75: 'vase', 76: 'scissors', 77: 'teddy bear', 78: 'hair drier', 79: 'toothbrush'}\n",
       " obb: None\n",
       " orig_img: array([[[74, 77, 66],\n",
       "         [74, 77, 66],\n",
       "         [78, 80, 69],\n",
       "         ...,\n",
       "         [69, 67, 49],\n",
       "         [69, 66, 48],\n",
       "         [69, 66, 48]],\n",
       " \n",
       "        [[74, 77, 66],\n",
       "         [74, 77, 66],\n",
       "         [78, 80, 69],\n",
       "         ...,\n",
       "         [69, 67, 49],\n",
       "         [69, 66, 48],\n",
       "         [69, 66, 48]],\n",
       " \n",
       "        [[74, 75, 66],\n",
       "         [74, 75, 66],\n",
       "         [77, 77, 67],\n",
       "         ...,\n",
       "         [69, 67, 46],\n",
       "         [68, 65, 45],\n",
       "         [68, 65, 45]],\n",
       " \n",
       "        ...,\n",
       " \n",
       "        [[51, 52, 46],\n",
       "         [51, 52, 46],\n",
       "         [52, 51, 47],\n",
       "         ...,\n",
       "         [49, 50, 39],\n",
       "         [49, 47, 39],\n",
       "         [49, 47, 39]],\n",
       " \n",
       "        [[53, 53, 47],\n",
       "         [53, 53, 47],\n",
       "         [52, 54, 47],\n",
       "         ...,\n",
       "         [49, 53, 39],\n",
       "         [49, 50, 39],\n",
       "         [49, 50, 39]],\n",
       " \n",
       "        [[53, 53, 47],\n",
       "         [53, 53, 47],\n",
       "         [52, 54, 47],\n",
       "         ...,\n",
       "         [49, 53, 39],\n",
       "         [49, 50, 39],\n",
       "         [49, 50, 39]]], dtype=uint8)\n",
       " orig_shape: (2176, 4096)\n",
       " path: 'M:\\\\My Drive\\\\FastSAM\\\\images\\\\CI_1596710828_778.png'\n",
       " probs: None\n",
       " save_dir: 'D:\\\\OneDrive\\\\Documents\\\\github\\\\ultralytics\\\\runs\\\\segment\\\\predict2'\n",
       " speed: {'preprocess': 6.999731063842773, 'inference': 21586.4155292511, 'postprocess': 2493.783950805664}]"
      ]
     },
     "execution_count": 6,
     "metadata": {},
     "output_type": "execute_result"
    }
   ],
   "source": [
    "res"
   ]
  }
 ],
 "metadata": {
  "kernelspec": {
   "display_name": "Python 3 (ipykernel)",
   "language": "python",
   "name": "python3"
  },
  "language_info": {
   "codemirror_mode": {
    "name": "ipython",
    "version": 3
   },
   "file_extension": ".py",
   "mimetype": "text/x-python",
   "name": "python",
   "nbconvert_exporter": "python",
   "pygments_lexer": "ipython3",
   "version": "3.11.8"
  }
 },
 "nbformat": 4,
 "nbformat_minor": 5
}
